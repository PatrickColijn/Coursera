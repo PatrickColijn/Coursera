{
 "cells": [
  {
   "cell_type": "code",
   "execution_count": null,
   "metadata": {},
   "outputs": [],
   "source": [
    "# Install libraries\n",
    "!conda install -c conda-forge geopandas --yes\n",
    "!conda install -c conda-forge us --yes\n",
    "!conda install -c conda-forge descartes --yes\n",
    "\n",
    "# Load libraries\n",
    "import IPython\n",
    "import datetime\n",
    "import numpy as np\n",
    "import pandas as pd\n",
    "import geopandas as gpd\n",
    "import requests\n",
    "import zipfile\n",
    "import io\n",
    "import us \n",
    "from descartes.patch import PolygonPatch\n",
    "\n",
    "# Set file name variables\n",
    "dbf = 'WONINGWAARDE_2018_INFLATIE_region.dbf'\n",
    "prj = 'WONINGWAARDE_2018_INFLATIE_region.prj'\n",
    "shp = 'WONINGWAARDE_2018_INFLATIE_region.shp'\n",
    "shx = 'WONINGWAARDE_2018_INFLATIE_region.shx'\n",
    "\n",
    "# Load in data\n",
    "AMS = gpd.read_file(shp)\n",
    "print(\"Shape of the dataframe: {}\".format(NY.shape))\n",
    "print(\"Projection of dataframe: {}\".format(NY.crs))\n",
    "AMS.head()"
   ]
  },
  {
   "cell_type": "code",
   "execution_count": null,
   "metadata": {},
   "outputs": [],
   "source": []
  }
 ],
 "metadata": {
  "kernelspec": {
   "display_name": "Python 3",
   "language": "python",
   "name": "python3"
  },
  "language_info": {
   "codemirror_mode": {
    "name": "ipython",
    "version": 3
   },
   "file_extension": ".py",
   "mimetype": "text/x-python",
   "name": "python",
   "nbconvert_exporter": "python",
   "pygments_lexer": "ipython3",
   "version": "3.7.6"
  }
 },
 "nbformat": 4,
 "nbformat_minor": 4
}
