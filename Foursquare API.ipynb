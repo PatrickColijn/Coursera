{
 "cells": [
  {
   "cell_type": "code",
   "execution_count": 6,
   "metadata": {},
   "outputs": [],
   "source": [
    "# Import libraries\n",
    "import pandas as pd\n",
    "import numpy as np \n",
    "\n",
    "import json # library to handle JSON files\n",
    "import requests # library to handle requests\n",
    "from pandas.io.json import json_normalize # tranform JSON file into a pandas dataframe"
   ]
  },
  {
   "cell_type": "code",
   "execution_count": 15,
   "metadata": {},
   "outputs": [],
   "source": [
    "url = 'https://api.foursquare.com/v2/'\n",
    "venues = 'venues/'\n",
    "users = 'users/'\n",
    "tips = 'tips/'\n",
    "version = 'v=20200510'\n",
    "\n",
    "CLIENT_ID = 'client_id=JUHSD2DLH40KNI3KOXRPVHRS2V3QAMESG5VGVQRJFIUJM5UD'\n",
    "CLIENT_SECRET = 'client_secret=4KAMLY2S235CTRNXMGJGLQUUYMFVK1122MMRVVUT3B3DYHQV'\n",
    "version = 'v=20200510'\n",
    "\n",
    "ll = 'll=40.73,-74.01'\n",
    "query = 'query=coffee'\n",
    "\n",
    "get_url = url+venues+'search?'+CLIENT_ID+'&'+CLIENT_SECRET+'&'+version+'&'+ll+'&'+query"
   ]
  },
  {
   "cell_type": "code",
   "execution_count": 16,
   "metadata": {},
   "outputs": [
    {
     "data": {
      "text/plain": [
       "'https://api.foursquare.com/v2/venues/search?client_id=JUHSD2DLH40KNI3KOXRPVHRS2V3QAMESG5VGVQRJFIUJM5UD&client_secret=4KAMLY2S235CTRNXMGJGLQUUYMFVK1122MMRVVUT3B3DYHQV&v=20200510&ll=40.73,-74.01&query=coffee'"
      ]
     },
     "execution_count": 16,
     "metadata": {},
     "output_type": "execute_result"
    }
   ],
   "source": [
    "get_url"
   ]
  },
  {
   "cell_type": "code",
   "execution_count": 17,
   "metadata": {},
   "outputs": [],
   "source": [
    "results = requests.get(get_url).json()"
   ]
  },
  {
   "cell_type": "code",
   "execution_count": 22,
   "metadata": {},
   "outputs": [
    {
     "data": {
      "text/plain": [
       "dict_keys(['meta', 'response'])"
      ]
     },
     "execution_count": 22,
     "metadata": {},
     "output_type": "execute_result"
    }
   ],
   "source": [
    "results.keys()"
   ]
  },
  {
   "cell_type": "code",
   "execution_count": 34,
   "metadata": {},
   "outputs": [],
   "source": [
    "results2= results['response']"
   ]
  },
  {
   "cell_type": "code",
   "execution_count": 52,
   "metadata": {},
   "outputs": [
    {
     "data": {
      "text/plain": [
       "dict_keys(['id', 'name', 'location', 'categories', 'venuePage', 'referralId', 'hasPerk'])"
      ]
     },
     "execution_count": 52,
     "metadata": {},
     "output_type": "execute_result"
    }
   ],
   "source": [
    "results2['venues'][0].keys()"
   ]
  },
  {
   "cell_type": "code",
   "execution_count": null,
   "metadata": {},
   "outputs": [],
   "source": []
  }
 ],
 "metadata": {
  "kernelspec": {
   "display_name": "Python 3",
   "language": "python",
   "name": "python3"
  },
  "language_info": {
   "codemirror_mode": {
    "name": "ipython",
    "version": 3
   },
   "file_extension": ".py",
   "mimetype": "text/x-python",
   "name": "python",
   "nbconvert_exporter": "python",
   "pygments_lexer": "ipython3",
   "version": "3.7.6"
  }
 },
 "nbformat": 4,
 "nbformat_minor": 4
}
