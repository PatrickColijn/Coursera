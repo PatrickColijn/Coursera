{
 "cells": [
  {
   "cell_type": "markdown",
   "metadata": {},
   "source": [
    "# Introduction \n",
    "\n",
    "## Part 1 & 2\n",
    "For this week, you will required to submit the following:\n",
    "1. A description of the problem and a discussion of the background. (15 marks)\n",
    "\n",
    "Amsterdam is the major City within The Netherlands and one of the most visited cities within Europe. \n",
    "Next to that, Amsterdam has international allure for multinational companies and therefor attracts talent from all over the world. \n",
    "The city is famous due to its liberate nature and culture. However, the city is divided in numerous neighborhoods sucha s Osdor, De Pijp, Centrum, Zuidas, Bos & Lommer, Oud-Zuid, etc.\n",
    "With over 800.000 inhabitants and a highly diverse population with over 180 different backgrounds every nieghborhoods has its own characteristics.\n",
    "As a young urban professional for me it is important to live near the hospitality and espicially nearby italian restaurants and pizza places since that is my favorite food. I would like to know in which area I can find the best hotspots. This will be the focus of this analysis. \n",
    "\n",
    "2. A description of the data and how it will be used to solve the problem. (15 marks)\n",
    "\n",
    "    - Foursqaure will be used to retract all current vendorrs in the city\n",
    "    - Official list of neighborhoods and postal codes to create folium map of Amsterdam\n",
    "\n",
    "For the second week, the final deliverables of the project will be:\n",
    "1. A link to your Notebook on your Github repository, showing your code. (15 marks)\n",
    "\n",
    "  (Insert GITHUB - URL) \n",
    "  \n",
    "2. A full report consisting of all of the following components (15 marks):\n",
    "* Introduction where you discuss the business problem and who would be interested in this project.\n",
    "\n",
    "Amsterdam is the major City within The Netherlands and one of the most visited cities within Europe. \n",
    "Next to that, Amsterdam has international allure for multinational companies and therefor attracts talent from all over the world. \n",
    "The city is famous due to its liberate nature and culture. However, the city is divided in numerous neighborhoods sucha s Osdor, De Pijp, Centrum, Zuidas, Bos & Lommer, Oud-Zuid, etc.\n",
    "With over 800.000 inhabitants and a highly diverse population with over 180 different backgrounds every nieghborhoods has its own characteristics.\n",
    "As a young urban professional for me it is important to live near the hospitality and espicially nearby italian restaurants and pizza places since that is my favorite food. I would like to know in which area I can find the best hotspots. This will be the focus of this analysis. \n",
    "\n",
    "This project is targeted on expats coming to the municipality of Amsterdam and whom are looking for a place to live and like to live near the hotspots in the city. \n",
    "\n",
    "* Data where you describe the data that will be used to solve the problem and the source of the data.\n",
    "    - Open source data from the City of Amsterdam\n",
    "    - Foursquare API \n",
    "    \n",
    "* Methodology section which represents the main component of the report where you discuss and describe any exploratory data analysis that you did, any inferential statistical testing that you performed, if any, and what machine learnings were used and why.\n",
    " In this analysis we have focusses on the entire municipality of Amsterdam. Using the FourSqaure API over 15.000 venues across 400+ neigborhoods in Amsterdam were analysed. Unfortunately, due to the limitations of the free API account we were not able to analyse all the venues on venue level. \n",
    " After data retrieval, cleaning and wrangling the analysis started. Based on the different categories we looked at the major hospitality categories leaving us with around 3500 venues. Using open data from the municipality let us create a folium heatmap and plot all neighborhoods, different venues and a heatmap of Amsterdam. \n",
    "\n",
    "* Results section where you discuss the results.\n",
    "We have found that certain neighborhoods within Amsterdam are more heavily populated with hospitality venues. \n",
    "These venues tend to centre towards the center of the municipilaity of Amsterdam, near the canals.\n",
    "\n",
    "* Discussion section where you discuss any observations you noted and any recommendations you can make based on the results.\n",
    "Altough the results show clear findings, further research can study more characteristics of neighborhoods based on the data. \n",
    "For this, a premium account of the FourSquare API will be required. With the additional data, clustering through machine learning could be applied. \n",
    "    \n",
    "* Conclusion section where you conclude the report.\n",
    "As a new expat within the city who is fond of hospitality you should look a place near the city center! \n",
    "\n",
    "3. Your choice of a presentation or blogpost. (10 marks)\n",
    "A presentation "
   ]
  },
  {
   "cell_type": "code",
   "execution_count": null,
   "metadata": {},
   "outputs": [],
   "source": []
  }
 ],
 "metadata": {
  "kernelspec": {
   "display_name": "Python 3",
   "language": "python",
   "name": "python3"
  },
  "language_info": {
   "codemirror_mode": {
    "name": "ipython",
    "version": 3
   },
   "file_extension": ".py",
   "mimetype": "text/x-python",
   "name": "python",
   "nbconvert_exporter": "python",
   "pygments_lexer": "ipython3",
   "version": "3.7.6"
  }
 },
 "nbformat": 4,
 "nbformat_minor": 4
}
